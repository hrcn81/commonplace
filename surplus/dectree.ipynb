{
  "nbformat": 4,
  "nbformat_minor": 0,
  "metadata": {
    "colab": {
      "private_outputs": true,
      "provenance": [],
      "authorship_tag": "ABX9TyOXShEcL7yghxr0q/AmfCki",
      "include_colab_link": true
    },
    "kernelspec": {
      "name": "python3",
      "display_name": "Python 3"
    },
    "language_info": {
      "name": "python"
    }
  },
  "cells": [
    {
      "cell_type": "markdown",
      "metadata": {
        "id": "view-in-github",
        "colab_type": "text"
      },
      "source": [
        "<a href=\"https://colab.research.google.com/github/hrcn81/commonplace/blob/main/surplus/dectree.ipynb\" target=\"_parent\"><img src=\"https://colab.research.google.com/assets/colab-badge.svg\" alt=\"Open In Colab\"/></a>"
      ]
    },
    {
      "cell_type": "code",
      "execution_count": null,
      "metadata": {
        "id": "KqqKoO_a4QF_"
      },
      "outputs": [],
      "source": [
        "import numpy as np\n",
        "import pandas as pd\n",
        "from sklearn.preprocessing import LabelEncoder\n",
        "from sklearn import tree"
      ]
    },
    {
      "cell_type": "code",
      "source": [
        "data = pd.read_csv(r\"https://raw.githubusercontent.com/hrcn81/commonplace/main/Datasets/PlayTennis.csv\")"
      ],
      "metadata": {
        "id": "J46OYNeV4d6i"
      },
      "execution_count": null,
      "outputs": []
    },
    {
      "cell_type": "code",
      "source": [
        "PlayTennis = data.copy()"
      ],
      "metadata": {
        "id": "8MFs4TIh4kGe"
      },
      "execution_count": null,
      "outputs": []
    },
    {
      "cell_type": "code",
      "source": [
        "PlayTennis"
      ],
      "metadata": {
        "id": "lm0zsltT4nCj"
      },
      "execution_count": null,
      "outputs": []
    },
    {
      "cell_type": "code",
      "source": [
        "Le = LabelEncoder()\n",
        "\n",
        "# PlayTennis.iloc[:,0] = Le.fit_transform(PlayTennis.iloc[:,0])\n",
        "\n",
        "for i in range(5):\n",
        "    PlayTennis.iloc[:,i] = Le.fit_transform(PlayTennis.iloc[:,i])\n",
        "\n",
        "PlayTennis"
      ],
      "metadata": {
        "id": "zvmDH-OK4ojs"
      },
      "execution_count": null,
      "outputs": []
    },
    {
      "cell_type": "code",
      "source": [
        "y = PlayTennis['play']\n",
        "# X = PlayTennis.drop(PlayTennis.iloc[:,-1])\n",
        "X = PlayTennis.drop(['play'],axis = 1)"
      ],
      "metadata": {
        "id": "qekQzVgA5Jhr"
      },
      "execution_count": null,
      "outputs": []
    },
    {
      "cell_type": "code",
      "source": [
        "yy = y.astype(np.int64)\n",
        "\n",
        "yy"
      ],
      "metadata": {
        "id": "lCgy1MHk85oP"
      },
      "execution_count": null,
      "outputs": []
    },
    {
      "cell_type": "code",
      "source": [
        "XX = X.astype(np.int64)\n",
        "\n",
        "XX"
      ],
      "metadata": {
        "id": "S-i7jiA687I3"
      },
      "execution_count": null,
      "outputs": []
    },
    {
      "cell_type": "code",
      "source": [
        "# clf = tree.DecisionTreeClassifier(criterion='entropy')\n",
        "# clf = clf.fit(X,y)\n",
        "clf = tree.DecisionTreeClassifier(criterion='entropy')\n",
        "clf = clf.fit(XX,yy)"
      ],
      "metadata": {
        "id": "AlCfaVkP6fuU"
      },
      "execution_count": null,
      "outputs": []
    },
    {
      "cell_type": "code",
      "source": [
        "tree.plot_tree(clf)"
      ],
      "metadata": {
        "id": "LT2d1Mjh6r2M"
      },
      "execution_count": null,
      "outputs": []
    },
    {
      "cell_type": "code",
      "source": [
        "X_pred = clf.predict(XX)\n",
        "y_pred = clf.predict(XX)"
      ],
      "metadata": {
        "id": "7Y_XUcnl7Z7y"
      },
      "execution_count": null,
      "outputs": []
    },
    {
      "cell_type": "code",
      "source": [
        "y_pred"
      ],
      "metadata": {
        "id": "kdVJO9VH7gOn"
      },
      "execution_count": null,
      "outputs": []
    },
    {
      "cell_type": "code",
      "source": [
        "clf = tree.DecisionTreeClassifier(criterion='gini')\n",
        "clf = clf.fit(XX,yy)"
      ],
      "metadata": {
        "id": "d_mgdjcR-gcZ"
      },
      "execution_count": null,
      "outputs": []
    },
    {
      "cell_type": "code",
      "source": [
        "tree.plot_tree(clf)"
      ],
      "metadata": {
        "id": "goGWzwQK-iDx"
      },
      "execution_count": null,
      "outputs": []
    },
    {
      "cell_type": "code",
      "source": [
        "X_pred = clf.predict(XX)\n",
        "y_pred = clf.predict(XX)"
      ],
      "metadata": {
        "id": "f7LE_WKE-kQB"
      },
      "execution_count": null,
      "outputs": []
    },
    {
      "cell_type": "code",
      "source": [
        "y_pred"
      ],
      "metadata": {
        "id": "N8cqY5th-lmj"
      },
      "execution_count": null,
      "outputs": []
    }
  ]
}