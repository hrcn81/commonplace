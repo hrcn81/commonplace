{
  "nbformat": 4,
  "nbformat_minor": 0,
  "metadata": {
    "colab": {
      "provenance": [],
      "mount_file_id": "1nbkjuLjF6aRZwnsT8_M0z0RL2gH0gzQW",
      "authorship_tag": "ABX9TyO+sXgk5jVFItJjcKHVj8mj",
      "include_colab_link": true
    },
    "kernelspec": {
      "name": "python3",
      "display_name": "Python 3"
    },
    "language_info": {
      "name": "python"
    }
  },
  "cells": [
    {
      "cell_type": "markdown",
      "metadata": {
        "id": "view-in-github",
        "colab_type": "text"
      },
      "source": [
        "<a href=\"https://colab.research.google.com/github/hrcn81/commonplace/blob/main/Linear_Regression_Pizza.ipynb\" target=\"_parent\"><img src=\"https://colab.research.google.com/assets/colab-badge.svg\" alt=\"Open In Colab\"/></a>"
      ]
    },
    {
      "cell_type": "code",
      "source": [
        "from google.colab import drive\n",
        "drive.mount('/content/drive')"
      ],
      "metadata": {
        "colab": {
          "base_uri": "https://localhost:8080/"
        },
        "id": "ypZjchCqGC78",
        "outputId": "7a5f161c-fa03-4d0f-b3fa-abc67ddf4804"
      },
      "execution_count": null,
      "outputs": [
        {
          "output_type": "stream",
          "name": "stdout",
          "text": [
            "Mounted at /content/drive\n"
          ]
        }
      ]
    },
    {
      "cell_type": "code",
      "source": [
        "import numpy as np\n",
        "from sklearn.linear_model import LinearRegression\n",
        "from sklearn.model_selection import train_test_split\n",
        "import seaborn as sns\n",
        "import matplotlib.pyplot as plt\n",
        "import pandas as pd"
      ],
      "metadata": {
        "id": "RmHwIb1wG1_j"
      },
      "execution_count": null,
      "outputs": []
    },
    {
      "cell_type": "code",
      "source": [
        "pizza_price = pd.read_csv('/content/drive/MyDrive/Colab Notebooks/Algos/Pizza_1.csv')\n",
        "pizza_price.columns\n",
        "y = pizza_price['Price']\n",
        "X = pizza_price[['Diameter']]\n",
        "\n",
        "X_train, X_test, y_train, y_test = train_test_split(X, y, train_size=0.7, random_state=2529)\n",
        "\n",
        "model = LinearRegression()\n",
        "\n",
        "model.fit(X_train, y_train)\n",
        "print(model.intercept_)\n",
        "print(model.coef_)\n",
        "y_pred = model.predict(X_test)"
      ],
      "metadata": {
        "colab": {
          "base_uri": "https://localhost:8080/"
        },
        "id": "QJnICSW0GDgK",
        "outputId": "a882393d-b117-4ec0-fce9-d4f18e21d851"
      },
      "execution_count": null,
      "outputs": [
        {
          "output_type": "stream",
          "name": "stdout",
          "text": [
            "-284.3946188340807\n",
            "[68.02690583]\n"
          ]
        }
      ]
    },
    {
      "cell_type": "code",
      "source": [
        "import pandas as pd\n",
        "import numpy as np\n",
        "from sklearn.model_selection import train_test_split\n",
        "from sklearn.linear_model import LinearRegression\n",
        "from sklearn.metrics import mean_squared_error, r2_score\n",
        "import matplotlib.pyplot as plt\n",
        "\n",
        "# Load data\n",
        "pizza_price = pd.read_csv('/content/drive/MyDrive/Colab Notebooks/Algos/Pizza_1.csv')\n",
        "\n",
        "# Display column names\n",
        "print(pizza_price.columns)\n",
        "\n",
        "# Define features and target\n",
        "y = pizza_price['Price']\n",
        "X = pizza_price[['Diameter']]\n",
        "\n",
        "# Train-test split\n",
        "X_train, X_test, y_train, y_test = train_test_split(X, y, train_size=0.7, random_state=2529)\n",
        "\n",
        "# Create and train the linear regression model\n",
        "model = LinearRegression()\n",
        "model.fit(X_train, y_train)\n",
        "\n",
        "# Display model parameters\n",
        "print('Intercept:', model.intercept_)\n",
        "print('Coefficient:', model.coef_)\n",
        "\n",
        "# Predict on test data\n",
        "y_pred = model.predict(X_test)\n",
        "\n",
        "# Evaluate the model\n",
        "mse = mean_squared_error(y_test, y_pred)\n",
        "rmse = np.sqrt(mse)\n",
        "r2 = r2_score(y_test, y_pred)\n",
        "\n",
        "print(f'Mean Squared Error: {mse}')\n",
        "print(f'Root Mean Squared Error: {rmse}')\n",
        "print(f'R-squared: {r2}')\n",
        "\n",
        "# Visualize the regression line\n",
        "plt.scatter(X_test, y_test, color='black')\n",
        "plt.plot(X_test, y_pred, color='blue', linewidth=3)\n",
        "plt.xlabel('Radius')\n",
        "plt.ylabel('Price')\n",
        "plt.title('Linear Regression Model - Pizza Price Prediction')\n",
        "plt.show()"
      ],
      "metadata": {
        "colab": {
          "base_uri": "https://localhost:8080/",
          "height": 576
        },
        "id": "GLv_q50KIQAl",
        "outputId": "538f9c93-eae9-401c-d981-98fc1d7f3d73"
      },
      "execution_count": null,
      "outputs": [
        {
          "output_type": "stream",
          "name": "stdout",
          "text": [
            "Index(['Diameter', 'Price'], dtype='object')\n",
            "Intercept: -284.3946188340807\n",
            "Coefficient: [68.02690583]\n",
            "Mean Squared Error: 10921.242383719764\n",
            "Root Mean Squared Error: 104.50474813959299\n",
            "R-squared: 0.6808986885691815\n"
          ]
        },
        {
          "output_type": "display_data",
          "data": {
            "text/plain": [
              "<Figure size 640x480 with 1 Axes>"
            ],
            "image/png": "[encoded data removed]"
          },
          "metadata": {}
        }
      ]
    },
    {
      "cell_type": "code",
      "source": [
        "import pandas as pd\n",
        "import numpy as np\n",
        "from sklearn.model_selection import train_test_split\n",
        "from sklearn.linear_model import LinearRegression\n",
        "from sklearn.metrics import mean_squared_error, r2_score\n",
        "import matplotlib.pyplot as plt\n",
        "\n",
        "# Load data\n",
        "data = pd.read_csv('/content/drive/MyDrive/Colab Notebooks/Algos/Pizza_1.csv')\n",
        "\n",
        "# Display column names\n",
        "print(data.columns)\n",
        "\n",
        "# Define features and target\n",
        "y = data['Price']\n",
        "X = data[['Diameter']]\n",
        "\n",
        "# Train-test split\n",
        "X_train, X_test, y_train, y_test = train_test_split(X, y, train_size=0.7, random_state=2529)\n",
        "\n",
        "# Create and train the linear regression model\n",
        "model = LinearRegression()\n",
        "model.fit(X_train, y_train)\n",
        "\n",
        "# Display model parameters\n",
        "print('Intercept:', model.intercept_)\n",
        "print('Coefficient:', model.coef_)\n",
        "\n",
        "# Predict on test data\n",
        "y_pred = model.predict(X_test)\n",
        "\n",
        "# Evaluate the model\n",
        "mse = mean_squared_error(y_test, y_pred)\n",
        "rmse = np.sqrt(mse)\n",
        "r2 = r2_score(y_test, y_pred)\n",
        "\n",
        "print(f'MSE: {mse}, RMSE: {rmse}, R-squared: {r2}')\n",
        "\n",
        "# Visualize the regression line\n",
        "plt.scatter(X_test, y_test, color='black')\n",
        "plt.plot(X_test, y_pred, color='blue', linewidth=3)\n",
        "plt.xlabel('Diameter')\n",
        "plt.ylabel('Price')\n",
        "plt.title('Linear Regression - Pizza Price Prediction')\n",
        "plt.show()\n",
        "\n",
        "# Predict prices for diameters between 12 and 18\n",
        "new_diameters = np.arange(12, 50 + 1).reshape(-1, 1)\n",
        "# new_diameters =\n",
        "new_preds = model.predict(new_diameters)\n",
        "\n",
        "# Display the predictions for the new diameters\n",
        "pred_df = pd.DataFrame({'Diameter': new_diameters.flatten(), 'Pred_Price': new_preds})\n",
        "print(pred_df)"
      ],
      "metadata": {
        "colab": {
          "base_uri": "https://localhost:8080/",
          "height": 1000
        },
        "id": "h9Gr0BSOGzpD",
        "outputId": "04cf90f1-21b3-43d3-d692-5a4182891d9e"
      },
      "execution_count": null,
      "outputs": [
        {
          "output_type": "stream",
          "name": "stdout",
          "text": [
            "Index(['Diameter', 'Price'], dtype='object')\n",
            "Intercept: -284.3946188340807\n",
            "Coefficient: [68.02690583]\n",
            "MSE: 10921.242383719764, RMSE: 104.50474813959299, R-squared: 0.6808986885691815\n"
          ]
        },
        {
          "output_type": "display_data",
          "data": {
            "text/plain": [
              "<Figure size 640x480 with 1 Axes>"
            ],
            "image/png": "[encoded data removed]"
          },
          "metadata": {}
        },
        {
          "output_type": "stream",
          "name": "stdout",
          "text": [
            "    Diameter   Pred_Price\n",
            "0         12   531.928251\n",
            "1         13   599.955157\n",
            "2         14   667.982063\n",
            "3         15   736.008969\n",
            "4         16   804.035874\n",
            "5         17   872.062780\n",
            "6         18   940.089686\n",
            "7         19  1008.116592\n",
            "8         20  1076.143498\n",
            "9         21  1144.170404\n",
            "10        22  1212.197309\n",
            "11        23  1280.224215\n",
            "12        24  1348.251121\n",
            "13        25  1416.278027\n",
            "14        26  1484.304933\n",
            "15        27  1552.331839\n",
            "16        28  1620.358744\n",
            "17        29  1688.385650\n",
            "18        30  1756.412556\n",
            "19        31  1824.439462\n",
            "20        32  1892.466368\n",
            "21        33  1960.493274\n",
            "22        34  2028.520179\n",
            "23        35  2096.547085\n",
            "24        36  2164.573991\n",
            "25        37  2232.600897\n",
            "26        38  2300.627803\n",
            "27        39  2368.654709\n",
            "28        40  2436.681614\n",
            "29        41  2504.708520\n",
            "30        42  2572.735426\n",
            "31        43  2640.762332\n",
            "32        44  2708.789238\n",
            "33        45  2776.816143\n",
            "34        46  2844.843049\n",
            "35        47  2912.869955\n",
            "36        48  2980.896861\n",
            "37        49  3048.923767\n",
            "38        50  3116.950673\n"
          ]
        },
        {
          "output_type": "stream",
          "name": "stderr",
          "text": [
            "/usr/local/lib/python3.10/dist-packages/sklearn/base.py:439: UserWarning: X does not have valid feature names, but LinearRegression was fitted with feature names\n",
            "  warnings.warn(\n"
          ]
        }
      ]
    },
    {
      "cell_type": "code",
      "source": [
        "import numpy as np\n",
        "from sklearn.linear_model import LinearRegression\n",
        "from sklearn.model_selection import train_test_split\n",
        "import seaborn as sns\n",
        "import matplotlib.pyplot as plt\n",
        "\n",
        "\n",
        "# Function to calculate m and b\n",
        "def linear_regression(X,y):\n",
        "  x_mean = np.mean(X)\n",
        "  y_mean = np.mean(y)\n",
        "  numerator = np.sum((X - x_mean) * (y - y_mean))\n",
        "  denominator = np.sum((X - x_mean) ** 2)\n",
        "  m = numerator / denominator\n",
        "  b = y_mean - (m * x_mean)\n",
        "  return m,b\n",
        "\n",
        "\n",
        "# Function for prediction\n",
        "def predict(X,m,b):\n",
        "  return m * X + b\n",
        "\n",
        "\n",
        "# Function to calculate prediction\n",
        "def rmse(y_true,y_pred):\n",
        "  return np.sqrt(np.mean((y_true - y_pred) ** 2))\n",
        "\n",
        "X = np.array([7,9,13,24])\n",
        "Y = np.array([195,475,595,1350])\n",
        "\n",
        "\n",
        "# Training model\n",
        "m,b = linear_regression(X,Y)\n",
        "\n",
        "\n",
        "# Making Mmodel\n",
        "predictions = predict(X,m,b)\n",
        "\n",
        "\n",
        "# Calculate RMSE\n",
        "error = rmse(Y,predictions)\n",
        "\n",
        "\n",
        "print('Slope (m)     : ',m)\n",
        "print('Intercdpt (b) : ',b)\n",
        "print('Predictions   : ',predictions)\n",
        "print('RMSE          : ',error)"
      ],
      "metadata": {
        "colab": {
          "base_uri": "https://localhost:8080/"
        },
        "id": "eJUtGnG8J6rU",
        "outputId": "fe0d9713-df5e-4e54-e450-830f5d0afb3c"
      },
      "execution_count": null,
      "outputs": [
        {
          "output_type": "stream",
          "name": "stdout",
          "text": [
            "Slope (m)     :  64.40665701881332\n",
            "Intercdpt (b) :  -199.63820549927652\n",
            "Predictions   :  [ 251.20839363  380.02170767  637.64833575 1346.12156295]\n",
            "RMSE          :  59.19075591768608\n"
          ]
        }
      ]
    },
    {
      "cell_type": "code",
      "source": [],
      "metadata": {
        "id": "rHiHzEUgN4ud"
      },
      "execution_count": null,
      "outputs": []
    }
  ]
}
