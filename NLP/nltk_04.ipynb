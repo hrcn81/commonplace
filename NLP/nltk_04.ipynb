{
 "cells": [
  {
   "cell_type": "code",
   "execution_count": 1,
   "id": "c7befb7b-879e-482d-b6f3-074066995963",
   "metadata": {},
   "outputs": [
    {
     "data": {
      "text/plain": [
       "['dog bites man', 'man bites dog', 'dog eats meat', 'man eats food']"
      ]
     },
     "execution_count": 1,
     "metadata": {},
     "output_type": "execute_result"
    }
   ],
   "source": [
    "documents = [\"Dog bites man.\",\"Man bites dog.\",\"Dog eats meat.\",\"Man eats food\"]\n",
    "\n",
    "processed_docs = [doc.lower().replace(\".\",\"\") for doc in documents]\n",
    "\n",
    "processed_docs"
   ]
  },
  {
   "cell_type": "code",
   "execution_count": 2,
   "id": "4547c32d-f2fe-4bff-83a4-4fa310af8a0e",
   "metadata": {},
   "outputs": [],
   "source": [
    "from sklearn.feature_extraction.text import CountVectorizer"
   ]
  },
  {
   "cell_type": "code",
   "execution_count": 3,
   "id": "678b7445-e0ef-4d7c-bf06-091260300c12",
   "metadata": {},
   "outputs": [
    {
     "name": "stdout",
     "output_type": "stream",
     "text": [
      "Our Corpus :  ['dog bites man', 'man bites dog', 'dog eats meat', 'man eats food']\n",
      "Our vocabulary :  {'dog': 1, 'bites': 0, 'man': 4, 'eats': 2, 'meat': 5, 'food': 3}\n",
      "BoW representation for 'dog bites man' :  [[1 1 0 0 1 0]]\n",
      "Bow representation for 'man bites dog' :  [[1 1 0 0 1 0]]\n",
      "Bow representation for 'dog and dog are friends': [[0 2 0 0 0 0]]\n"
     ]
    }
   ],
   "source": [
    "# document list\n",
    "print(\"Our Corpus : \",processed_docs)\n",
    "\n",
    "\n",
    "# count_vect = CountVectorizer(binary = True)\n",
    "count_vect = CountVectorizer(binary = False)\n",
    "\n",
    "# build a BOW representation for corpus\n",
    "bow_rep = count_vect.fit_transform(processed_docs)\n",
    "\n",
    "# vocabulary mapping\n",
    "print(\"Our vocabulary : \",count_vect.vocabulary_)\n",
    "\n",
    "# BOW rep for first 2 documents\n",
    "print(\"BoW representation for 'dog bites man' : \",bow_rep[0].toarray())\n",
    "print(\"Bow representation for 'man bites dog' : \",bow_rep[1].toarray())\n",
    "\n",
    "# get the representation using this vocabulary, for a new text\n",
    "temp = count_vect.transform([\"dog and dog are friends\"])\n",
    "print(\"Bow representation for 'dog and dog are friends':\",temp.toarray())"
   ]
  },
  {
   "cell_type": "code",
   "execution_count": 4,
   "id": "cd1c9a59-2e96-4f44-b8d5-9bc9dfd0872e",
   "metadata": {},
   "outputs": [
    {
     "name": "stdout",
     "output_type": "stream",
     "text": [
      "Our Corpus :  ['dog bites man', 'man bites dog', 'dog eats meat', 'man eats food']\n",
      "Our vocabulary :  {'dog': 1, 'bites': 0, 'man': 4, 'eats': 2, 'meat': 5, 'food': 3}\n",
      "BoW representation for 'dog bites man' :  [[1 1 0 0 1 0]]\n",
      "Bow representation for 'man bites dog' :  [[1 1 0 0 1 0]]\n",
      "Bow representation for 'dog and dog are friends': [[0 1 0 0 0 0]]\n"
     ]
    }
   ],
   "source": [
    "# document list\n",
    "print(\"Our Corpus : \",processed_docs)\n",
    "\n",
    "\n",
    "count_vect = CountVectorizer(binary = True)\n",
    "# count_vect = CountVectorizer(binary = False)\n",
    "\n",
    "# build a BOW representation for corpus\n",
    "bow_rep = count_vect.fit_transform(processed_docs)\n",
    "\n",
    "# vocabulary mapping\n",
    "print(\"Our vocabulary : \",count_vect.vocabulary_)\n",
    "\n",
    "# BOW rep for first 2 documents\n",
    "print(\"BoW representation for 'dog bites man' : \",bow_rep[0].toarray())\n",
    "print(\"Bow representation for 'man bites dog' : \",bow_rep[1].toarray())\n",
    "\n",
    "# get the representation using this vocabulary, for a new text\n",
    "temp = count_vect.transform([\"dog and dog are friends\"])\n",
    "print(\"Bow representation for 'dog and dog are friends':\",temp.toarray())"
   ]
  },
  {
   "cell_type": "code",
   "execution_count": 5,
   "id": "b54b0b29-0f40-4015-943d-1cbca587fa51",
   "metadata": {},
   "outputs": [
    {
     "name": "stdout",
     "output_type": "stream",
     "text": [
      "Our Corpus :  ['dog bites man', 'man bites dog', 'dog eats meat', 'man eats food']\n",
      "Our vocabulary :  {'dog': 3, 'bites': 0, 'man': 12, 'dog bites': 4, 'bites man': 2, 'dog bites man': 5, 'man bites': 13, 'bites dog': 1, 'man bites dog': 14, 'eats': 8, 'meat': 17, 'dog eats': 6, 'eats meat': 10, 'dog eats meat': 7, 'food': 11, 'man eats': 15, 'eats food': 9, 'man eats food': 16}\n",
      "BoW representation for 'dog bites man' :  [[1 0 1 1 1 1 0 0 0 0 0 0 1 0 0 0 0 0]]\n",
      "Bow representation for 'man bites dog' :  [[1 1 0 1 0 0 0 0 0 0 0 0 1 1 1 0 0 0]]\n",
      "Bow representation for 'dog and dog are friends': [[0 0 0 2 0 0 0 0 0 0 0 0 0 0 0 0 0 0]]\n"
     ]
    }
   ],
   "source": [
    "# document list\n",
    "print(\"Our Corpus : \",processed_docs)\n",
    "\n",
    "# count_vect = CountVectorizer(ngram_range = (1,1))\n",
    "# count_vect = CountVectorizer(ngram_range = (1,2))\n",
    "count_vect = CountVectorizer(ngram_range = (1,3))\n",
    "# count_vect = CountVectorizer(ngram_range = (2,3))\n",
    "\n",
    "# build a BOW representation for corpus\n",
    "bow_rep = count_vect.fit_transform(processed_docs)\n",
    "\n",
    "# vocabulary mapping\n",
    "print(\"Our vocabulary : \",count_vect.vocabulary_)\n",
    "\n",
    "# BOW rep for first 2 documents\n",
    "print(\"BoW representation for 'dog bites man' : \",bow_rep[0].toarray())\n",
    "print(\"Bow representation for 'man bites dog' : \",bow_rep[1].toarray())\n",
    "\n",
    "# get the representation using this vocabulary, for a new text\n",
    "temp = count_vect.transform([\"dog and dog are friends\"])\n",
    "print(\"Bow representation for 'dog and dog are friends':\",temp.toarray())"
   ]
  },
  {
   "cell_type": "code",
   "execution_count": 6,
   "id": "588aec27-3b35-4969-ac55-ec81a9b74c40",
   "metadata": {},
   "outputs": [
    {
     "name": "stdout",
     "output_type": "stream",
     "text": [
      "IDF for all words in the vocabulary : \n",
      " [1.51082562 1.22314355 1.51082562 1.91629073 1.22314355 1.91629073]\n",
      "----------------------------------------------------------------------------------------------------\n",
      "\n",
      "All words in the vocubalry : \n",
      " {'dog': 1, 'bites': 0, 'man': 4, 'eats': 2, 'meat': 5, 'food': 3}\n",
      "----------------------------------------------------------------------------------------------------\n",
      "\n",
      "TFIDF representation for all documents in our corpus : \n",
      " [[0.65782931 0.53256952 0.         0.         0.53256952 0.        ]\n",
      " [0.65782931 0.53256952 0.         0.         0.53256952 0.        ]\n",
      " [0.         0.44809973 0.55349232 0.         0.         0.70203482]\n",
      " [0.         0.         0.55349232 0.70203482 0.44809973 0.        ]]\n",
      "----------------------------------------------------------------------------------------------------\n",
      "\n",
      "TFIDF representation for 'dog and man are friends' : \n",
      " [[0.         0.70710678 0.         0.         0.70710678 0.        ]]\n"
     ]
    }
   ],
   "source": [
    "from sklearn.feature_extraction.text import TfidfVectorizer\n",
    "\n",
    "tfidf = TfidfVectorizer()        # TFIDF ==>> Term Frequency - Inverse Document Frequency\n",
    "bow_rep_tfidf = tfidf.fit_transform(processed_docs)\n",
    "\n",
    "print(\"IDF for all words in the vocabulary : \\n\",tfidf.idf_)\n",
    "print('-'*100)\n",
    "\n",
    "print(\"\\nAll words in the vocubalry : \\n\",tfidf.vocabulary_)\n",
    "print('-'*100)\n",
    "\n",
    "print('\\nTFIDF representation for all documents in our corpus : \\n',bow_rep_tfidf.toarray())\n",
    "print('-'*100)\n",
    "\n",
    "temp = tfidf.transform([\"dog and man are friends\"])\n",
    "print(\"\\nTFIDF representation for 'dog and man are friends' : \\n\",temp.toarray())"
   ]
  }
 ],
 "metadata": {
  "kernelspec": {
   "display_name": "Python 3 (ipykernel)",
   "language": "python",
   "name": "python3"
  },
  "language_info": {
   "codemirror_mode": {
    "name": "ipython",
    "version": 3
   },
   "file_extension": ".py",
   "mimetype": "text/x-python",
   "name": "python",
   "nbconvert_exporter": "python",
   "pygments_lexer": "ipython3",
   "version": "3.12.1"
  },
  "widgets": {
   "application/vnd.jupyter.widget-state+json": {
    "state": {},
    "version_major": 2,
    "version_minor": 0
   }
  }
 },
 "nbformat": 4,
 "nbformat_minor": 5
}
