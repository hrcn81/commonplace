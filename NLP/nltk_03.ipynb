{
 "cells": [
  {
   "cell_type": "code",
   "execution_count": 1,
   "id": "5a305392-6d99-41a1-9213-c4c2aad28fe1",
   "metadata": {},
   "outputs": [],
   "source": [
    "from sklearn.feature_extraction.text import CountVectorizer"
   ]
  },
  {
   "cell_type": "code",
   "execution_count": 2,
   "id": "7fb6f5cb-fca6-4485-a578-a156fbe9a636",
   "metadata": {},
   "outputs": [
    {
     "data": {
      "text/plain": [
       "['dog bites man', 'man bites dog', 'dog eats meat', 'man eats food']"
      ]
     },
     "execution_count": 2,
     "metadata": {},
     "output_type": "execute_result"
    }
   ],
   "source": [
    "documents = [\"Dog bites man.\",\"Man bites dog.\",\"Dog eats meat.\",\"Man eats food\"]\n",
    "\n",
    "processed_docs = [doc.lower().replace(\".\",\"\") for doc in documents]\n",
    "\n",
    "processed_docs"
   ]
  },
  {
   "cell_type": "code",
   "execution_count": 3,
   "id": "ffba94da-0f8d-4c06-bc45-f18773080f1c",
   "metadata": {},
   "outputs": [
    {
     "data": {
      "text/plain": [
       "{'dog': 1, 'bites': 2, 'man': 3, 'eats': 4, 'meat': 5, 'food': 6}"
      ]
     },
     "execution_count": 3,
     "metadata": {},
     "output_type": "execute_result"
    }
   ],
   "source": [
    "vocab = {}\n",
    "count = 0\n",
    "for doc in processed_docs:\n",
    "    for word in doc.split():\n",
    "        if word not in vocab:\n",
    "            count = count + 1\n",
    "            vocab[word] = count\n",
    "\n",
    "vocab"
   ]
  },
  {
   "cell_type": "code",
   "execution_count": 4,
   "id": "1be19f85-15e7-4e6a-a461-86b14bb64804",
   "metadata": {},
   "outputs": [],
   "source": [
    "def get_onehot_vector(somestring):\n",
    "    onehot_encoded = []\n",
    "    for word in somestring.split():\n",
    "        temp = [0]*len(vocab)\n",
    "        if word in vocab:\n",
    "            temp[vocab[word] - 1] = 1\n",
    "        onehot_encoded.append(temp)\n",
    "    return onehot_encoded"
   ]
  },
  {
   "cell_type": "code",
   "execution_count": 5,
   "id": "bc8c21f9-c614-408e-87b1-ffe29ab6626b",
   "metadata": {},
   "outputs": [
    {
     "name": "stdout",
     "output_type": "stream",
     "text": [
      "man bites dog\n"
     ]
    },
    {
     "data": {
      "text/plain": [
       "[[0, 0, 1, 0, 0, 0], [0, 1, 0, 0, 0, 0], [1, 0, 0, 0, 0, 0]]"
      ]
     },
     "execution_count": 5,
     "metadata": {},
     "output_type": "execute_result"
    }
   ],
   "source": [
    "print(processed_docs[1])\n",
    "\n",
    "get_onehot_vector(processed_docs[1])"
   ]
  },
  {
   "cell_type": "code",
   "execution_count": 6,
   "id": "1268a74b-132f-41b5-9bd5-f63db870add8",
   "metadata": {},
   "outputs": [
    {
     "data": {
      "text/plain": [
       "[[0, 0, 1, 0, 0, 0],\n",
       " [0, 0, 0, 0, 0, 0],\n",
       " [1, 0, 0, 0, 0, 0],\n",
       " [0, 0, 0, 0, 0, 0],\n",
       " [0, 0, 0, 0, 0, 0]]"
      ]
     },
     "execution_count": 6,
     "metadata": {},
     "output_type": "execute_result"
    }
   ],
   "source": [
    "get_onehot_vector(\"man and dog are good\")"
   ]
  },
  {
   "cell_type": "code",
   "execution_count": 7,
   "id": "fa130805-bcc5-47df-83bd-222b949f1404",
   "metadata": {},
   "outputs": [
    {
     "name": "stdout",
     "output_type": "stream",
     "text": [
      "Data :  ['dog', 'bites', 'man', 'man', 'bites', 'dog', 'dog', 'eats', 'meat', 'man', 'eats', 'food']\n",
      "\n",
      "Label Encoded :  [1 0 4 4 0 1 1 2 5 4 2 3]\n",
      "\n",
      "One Hot Encoder Matrix : \n",
      " [[1. 0. 1. 0. 0. 0. 1. 0.]\n",
      " [0. 1. 1. 0. 1. 0. 0. 0.]\n",
      " [1. 0. 0. 1. 0. 0. 0. 1.]\n",
      " [0. 1. 0. 1. 0. 1. 0. 0.]]\n"
     ]
    }
   ],
   "source": [
    "s1 = \"dog bites man\"\n",
    "s2 = \"man bites dog\"\n",
    "s3 = \"dog eats meat\"\n",
    "s4 = \"man eats food\"\n",
    "\n",
    "from sklearn.preprocessing import LabelEncoder,OneHotEncoder\n",
    "\n",
    "data = [s1.split(),s2.split(),s3.split(),s4.split()]\n",
    "values = data[0] + data[1] + data[2] + data[3]\n",
    "print(\"Data : \",values)\n",
    "\n",
    "# Label Encoding\n",
    "label_encoder = LabelEncoder()\n",
    "integer_encoded = label_encoder.fit_transform(values)\n",
    "print('\\nLabel Encoded : ',integer_encoded)\n",
    "\n",
    "# Onehot Encoding\n",
    "onehot_encoder = OneHotEncoder()\n",
    "onehot_encoder = onehot_encoder.fit_transform(data).toarray()\n",
    "print('\\nOne Hot Encoder Matrix : \\n',onehot_encoder)"
   ]
  },
  {
   "cell_type": "code",
   "execution_count": 8,
   "id": "3e323e86-79a6-4f68-a534-ce00449a72e8",
   "metadata": {},
   "outputs": [
    {
     "name": "stdout",
     "output_type": "stream",
     "text": [
      "Word: bites, One-Hot Encoded Value: [1. 0. 1. 0.], Unknown: 1.0, Absent: 0.0\n",
      "Word: dog, One-Hot Encoded Value: [0. 1. 0. 1.], Unknown: 0.0, Absent: 0.0\n",
      "Word: eats, One-Hot Encoded Value: [1. 1. 0. 0.], Unknown: 0.0, Absent: 1.0\n",
      "Word: food, One-Hot Encoded Value: [0. 0. 1. 1.], Unknown: 0.0, Absent: 0.0\n"
     ]
    }
   ],
   "source": [
    "# Get the vocabulary from the LabelEncoder\n",
    "vocabulary = label_encoder.classes_\n",
    "\n",
    "# Define the unknown and absent columns\n",
    "unknown_column = onehot_encoder[:, -2]\n",
    "absent_column = onehot_encoder[:, -1]\n",
    "\n",
    "# Display one-hot encoded values for each word in the vocabulary\n",
    "for word, one_hot_encoded_value, unknown, absent in zip(vocabulary, onehot_encoder.T[:-2], unknown_column, absent_column):\n",
    "    print(f\"Word: {word}, One-Hot Encoded Value: {one_hot_encoded_value}, Unknown: {unknown}, Absent: {absent}\")\n"
   ]
  }
 ],
 "metadata": {
  "kernelspec": {
   "display_name": "Python 3 (ipykernel)",
   "language": "python",
   "name": "python3"
  },
  "language_info": {
   "codemirror_mode": {
    "name": "ipython",
    "version": 3
   },
   "file_extension": ".py",
   "mimetype": "text/x-python",
   "name": "python",
   "nbconvert_exporter": "python",
   "pygments_lexer": "ipython3",
   "version": "3.12.1"
  },
  "widgets": {
   "application/vnd.jupyter.widget-state+json": {
    "state": {},
    "version_major": 2,
    "version_minor": 0
   }
  }
 },
 "nbformat": 4,
 "nbformat_minor": 5
}
